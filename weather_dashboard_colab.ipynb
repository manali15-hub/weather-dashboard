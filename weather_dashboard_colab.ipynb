{
 "cells": [
  {
   "cell_type": "markdown",
   "metadata": {},
   "source": [
    "# 🌤️ Weather Forecast Visualization with OpenWeatherMap API\n",
    "This notebook fetches 5-day forecast data from OpenWeatherMap and plots temperature trends using matplotlib."
   ]
  },
  {
   "cell_type": "code",
   "execution_count": null,
   "metadata": {},
   "outputs": [],
   "source": [
    "# ✅ Step 1: Install required packages\n",
    "!pip install requests matplotlib"
   ]
  },
  {
   "cell_type": "code",
   "execution_count": null,
   "metadata": {},
   "outputs": [],
   "source": [
    "# ✅ Step 2: Import libraries\n",
    "import requests\n",
    "import matplotlib.pyplot as plt\n",
    "import datetime"
   ]
  },
  {
   "cell_type": "code",
   "execution_count": null,
   "metadata": {},
   "outputs": [],
   "source": [
    "# ✅ Step 3: Configure API call\n",
    "API_KEY = '7e495db6e2be964ff8ce579ee41db83c'  # Replace with your own OpenWeatherMap API key\n",
    "CITY = 'Jamshedpur'  # Replace with your desired city\n",
    "URL = f'http://api.openweathermap.org/data/2.5/forecast?q={CITY}&appid={API_KEY}&units=metric'\n",
    "\n",
    "response = requests.get(URL)\n",
    "data = response.json()\n",
    "\n",
    "# Preview raw data\n",
    "data['list'][0]"
   ]
  },
  {
   "cell_type": "code",
   "execution_count": null,
   "metadata": {},
   "outputs": [],
   "source": [
    "# ✅ Step 4: Extract temperature and date\n",
    "dates = []\n",
    "temps = []\n",
    "\n",
    "for entry in data['list']:\n",
    "    dt = datetime.datetime.fromtimestamp(entry['dt'])\n",
    "    temp = entry['main']['temp']\n",
    "    dates.append(dt)\n",
    "    temps.append(temp)\n",
    "\n",
    "# Check extracted data\n",
    "dates[:5], temps[:5]"
   ]
  },
  {
   "cell_type": "code",
   "execution_count": null,
   "metadata": {},
   "outputs": [],
   "source": [
    "# ✅ Step 5: Plot the temperature forecast\n",
    "plt.figure(figsize=(12,6))\n",
    "plt.plot(dates, temps, marker='o', linestyle='-', color='teal')\n",
    "plt.title(f'5-Day Temperature Forecast for {CITY}')\n",
    "plt.xlabel('Date/Time')\n",
    "plt.ylabel('Temperature (°C)')\n",
    "plt.grid(True)\n",
    "plt.xticks(rotation=45)\n",
    "plt.tight_layout()\n",
    "plt.show()"
   ]
  }
 ],
 "metadata": {
  "kernelspec": {
   "display_name": "Python 3",
   "language": "python",
   "name": "python3"
  },
  "language_info": {
   "name": "python",
   "version": "3.11"
  }
 },
 "nbformat": 4,
 "nbformat_minor": 5
}
